{
  "nbformat": 4,
  "nbformat_minor": 0,
  "metadata": {
    "colab": {
      "name": "unet.ipynb",
      "version": "0.3.2",
      "provenance": [],
      "collapsed_sections": [],
      "include_colab_link": true
    },
    "kernelspec": {
      "name": "python3",
      "display_name": "Python 3"
    },
    "accelerator": "GPU"
  },
  "cells": [
    {
      "cell_type": "markdown",
      "metadata": {
        "id": "view-in-github",
        "colab_type": "text"
      },
      "source": [
        "[View in Colaboratory](https://colab.research.google.com/github/Romanm87/TGS_Salt/blob/master/unet.ipynb)"
      ]
    },
    {
      "metadata": {
        "id": "Db6CtKM5aNJK",
        "colab_type": "code",
        "colab": {
          "base_uri": "https://localhost:8080/",
          "height": 35
        },
        "outputId": "f9ebb37a-33fb-4cb1-dec9-508bd1b9c6e9"
      },
      "cell_type": "code",
      "source": [
        "import numpy as np\n",
        "import pandas as pd\n",
        "from keras.models import Model\n",
        "from keras import optimizers\n",
        "from keras import backend as K\n",
        "from sklearn.metrics import confusion_matrix\n",
        "from google.colab import files\n",
        "import tensorflow as tf\n",
        "import cv2\n",
        "import os\n",
        "import json\n",
        "import zipfile\n",
        "\n",
        "import skimage.io as io\n",
        "import skimage.transform as trans\n",
        "from keras.layers import *\n",
        "from keras.callbacks import ModelCheckpoint, LearningRateScheduler"
      ],
      "execution_count": 1,
      "outputs": [
        {
          "output_type": "stream",
          "text": [
            "Using TensorFlow backend.\n"
          ],
          "name": "stderr"
        }
      ]
    },
    {
      "metadata": {
        "id": "JVoyzDCDaTON",
        "colab_type": "code",
        "colab": {
          "base_uri": "https://localhost:8080/",
          "height": 745
        },
        "outputId": "b3b393e3-4771-4709-be09-b70dc116698b"
      },
      "cell_type": "code",
      "source": [
        "##### Use kaggle API\n",
        "\n",
        "!pip install kaggle\n",
        "api_token = {\"username\":\"romanm87\",\"key\":\"#####################\"}\n",
        "\n",
        "os.chdir('/')\n",
        "!mkdir ~/.kaggle #kaggle API searches in root directory for .kaggle/kaggle.json\n",
        "\n",
        "with open('/root/.kaggle/kaggle.json', 'w') as file:\n",
        "    json.dump(api_token, file)\n",
        "!chmod 600 /root/.kaggle/kaggle.json\n",
        "\n",
        "# API link from Kaggle:\n",
        "!kaggle competitions download -c tgs-salt-identification-challenge\n",
        "\n",
        "zip_ref = zipfile.ZipFile('train.zip', 'r')\n",
        "zip_ref.extractall()\n",
        "zip_ref.close()"
      ],
      "execution_count": 4,
      "outputs": [
        {
          "output_type": "stream",
          "text": [
            "Collecting kaggle\n",
            "\u001b[?25l  Downloading https://files.pythonhosted.org/packages/c6/78/832b9a9ec6b3baf8ec566e1f0a695f2fd08d2c94a6797257a106304bfc3c/kaggle-1.4.7.1.tar.gz (52kB)\n",
            "\u001b[K    100% |████████████████████████████████| 61kB 2.9MB/s \n",
            "\u001b[?25hRequirement already satisfied: urllib3<1.23.0,>=1.15 in /usr/local/lib/python3.6/dist-packages (from kaggle) (1.22)\n",
            "Requirement already satisfied: six>=1.10 in /usr/local/lib/python3.6/dist-packages (from kaggle) (1.11.0)\n",
            "Requirement already satisfied: certifi in /usr/local/lib/python3.6/dist-packages (from kaggle) (2018.8.24)\n",
            "Requirement already satisfied: python-dateutil in /usr/local/lib/python3.6/dist-packages (from kaggle) (2.5.3)\n",
            "Requirement already satisfied: requests in /usr/local/lib/python3.6/dist-packages (from kaggle) (2.18.4)\n",
            "Requirement already satisfied: tqdm in /usr/local/lib/python3.6/dist-packages (from kaggle) (4.26.0)\n",
            "Collecting python-slugify (from kaggle)\n",
            "  Downloading https://files.pythonhosted.org/packages/00/ad/c778a6df614b6217c30fe80045b365bfa08b5dd3cb02e8b37a6d25126781/python-slugify-1.2.6.tar.gz\n",
            "Requirement already satisfied: chardet<3.1.0,>=3.0.2 in /usr/local/lib/python3.6/dist-packages (from requests->kaggle) (3.0.4)\n",
            "Requirement already satisfied: idna<2.7,>=2.5 in /usr/local/lib/python3.6/dist-packages (from requests->kaggle) (2.6)\n",
            "Collecting Unidecode>=0.04.16 (from python-slugify->kaggle)\n",
            "\u001b[?25l  Downloading https://files.pythonhosted.org/packages/59/ef/67085e30e8bbcdd76e2f0a4ad8151c13a2c5bce77c85f8cad6e1f16fb141/Unidecode-1.0.22-py2.py3-none-any.whl (235kB)\n",
            "\u001b[K    100% |████████████████████████████████| 235kB 6.2MB/s \n",
            "\u001b[?25hBuilding wheels for collected packages: kaggle, python-slugify\n",
            "  Running setup.py bdist_wheel for kaggle ... \u001b[?25l-\b \b\\\b \bdone\n",
            "\u001b[?25h  Stored in directory: /root/.cache/pip/wheels/44/2c/df/22a6eeb780c36c28190faef6252b739fdc47145fd87a6642d4\n",
            "  Running setup.py bdist_wheel for python-slugify ... \u001b[?25l-\b \bdone\n",
            "\u001b[?25h  Stored in directory: /root/.cache/pip/wheels/e3/65/da/2045deea3098ed7471eca0e2460cfbd3fdfe8c1d6fa6fcac92\n",
            "Successfully built kaggle python-slugify\n",
            "Installing collected packages: Unidecode, python-slugify, kaggle\n",
            "Successfully installed Unidecode-1.0.22 kaggle-1.4.7.1 python-slugify-1.2.6\n",
            "mkdir: cannot create directory ‘/root/.kaggle’: File exists\n",
            "Downloading depths.csv to /\n",
            "  0% 0.00/322k [00:00<?, ?B/s]\n",
            "100% 322k/322k [00:00<00:00, 59.6MB/s]\n",
            "Downloading sample_submission.csv to /\n",
            "  0% 0.00/264k [00:00<?, ?B/s]\n",
            "100% 264k/264k [00:00<00:00, 66.1MB/s]\n",
            "Downloading train.csv to /\n",
            "  0% 0.00/922k [00:00<?, ?B/s]\n",
            "100% 922k/922k [00:00<00:00, 108MB/s]\n",
            "Downloading test.zip to /\n",
            " 97% 159M/163M [00:01<00:00, 127MB/s]\n",
            "100% 163M/163M [00:01<00:00, 110MB/s]\n",
            "Downloading train.zip to /\n",
            " 69% 26.0M/37.9M [00:00<00:00, 53.1MB/s]\n",
            "100% 37.9M/37.9M [00:00<00:00, 133MB/s] \n"
          ],
          "name": "stdout"
        }
      ]
    },
    {
      "metadata": {
        "id": "9zI4BjNcaVtn",
        "colab_type": "code",
        "colab": {}
      },
      "cell_type": "code",
      "source": [
        "##### Prepare data and model\n",
        "tr_image_dir = os.chdir('/images')\n",
        "train_im = os.listdir(tr_image_dir)\n",
        "x = np.array([np.array(cv2.imread(p, cv2.IMREAD_GRAYSCALE)) for p in train_im]) / 255\n",
        "\n",
        "tr_masks_dir = os.chdir('/masks')\n",
        "train_ma = os.listdir(tr_masks_dir)\n",
        "y = np.array([np.array(cv2.imread(p, cv2.IMREAD_GRAYSCALE)) for p in train_ma]) / 255\n",
        "\n",
        "# expand dimensions for CNN inout and zero padding\n",
        "x = np.expand_dims(x, axis=3)\n",
        "y = np.expand_dims(y, axis=3)\n",
        "\n",
        "# split training vs validation set\n",
        "train_val_split = 0.1\n",
        "x_train = x[0:int(x.shape[0]*(1-train_val_split)),:,:,:]\n",
        "y_train = y[0:int(y.shape[0]*(1-train_val_split)),:,:,:]\n",
        "x_val = x[int(x.shape[0]*(1-train_val_split)):,:,:,:]\n",
        "y_val = y[int(y.shape[0]*(1-train_val_split)):,:,:,:]\n",
        "\n",
        "# from: https://github.com/zhixuhao/unet/blob/master/model.py\n",
        "def unet(pretrained_weights = None,input_size = (101,101,1)):\n",
        "    inputs = Input(input_size)\n",
        "    input_padded = ZeroPadding2D(padding=((14, 13), (14, 13)))(inputs)  ## use zero padding to match dims after maxpool/upsample\n",
        "    conv1 = Conv2D(64, 3, activation = 'relu', padding = 'same', kernel_initializer = 'he_normal')(input_padded)\n",
        "    conv1 = Conv2D(64, 3, activation = 'relu', padding = 'same', kernel_initializer = 'he_normal')(conv1)\n",
        "    pool1 = MaxPooling2D(pool_size=(2, 2), border_mode=\"same\")(conv1)\n",
        "    conv2 = Conv2D(128, 3, activation = 'relu', padding = 'same', kernel_initializer = 'he_normal')(pool1)\n",
        "    conv2 = Conv2D(128, 3, activation = 'relu', padding = 'same', kernel_initializer = 'he_normal')(conv2)\n",
        "    pool2 = MaxPooling2D(pool_size=(2, 2), border_mode=\"same\")(conv2)\n",
        "    conv3 = Conv2D(256, 3, activation = 'relu', padding = 'same', kernel_initializer = 'he_normal')(pool2)\n",
        "    conv3 = Conv2D(256, 3, activation = 'relu', padding = 'same', kernel_initializer = 'he_normal')(conv3)\n",
        "    pool3 = MaxPooling2D(pool_size=(2, 2), border_mode=\"same\")(conv3)\n",
        "    conv4 = Conv2D(512, 3, activation = 'relu', padding = 'same', kernel_initializer = 'he_normal')(pool3)\n",
        "    conv4 = Conv2D(512, 3, activation = 'relu', padding = 'same', kernel_initializer = 'he_normal')(conv4)\n",
        "    drop4 = Dropout(0.5)(conv4)\n",
        "    pool4 = MaxPooling2D(pool_size=(2, 2), border_mode=\"same\")(drop4)\n",
        "\n",
        "    conv5 = Conv2D(1024, 3, activation = 'relu', padding = 'same', kernel_initializer = 'he_normal')(pool4)\n",
        "    conv5 = Conv2D(1024, 3, activation = 'relu', padding = 'same', kernel_initializer = 'he_normal')(conv5)\n",
        "    drop5 = Dropout(0.5)(conv5)\n",
        "\n",
        "    up6 = Conv2D(512, 2, activation = 'relu', padding = 'same', kernel_initializer = 'he_normal')(UpSampling2D(size = (2,2))(drop5))\n",
        "    merge6 = merge([drop4,up6], mode = 'concat', concat_axis = 3)\n",
        "    conv6 = Conv2D(512, 3, activation = 'relu', padding = 'same', kernel_initializer = 'he_normal')(merge6)\n",
        "    conv6 = Conv2D(512, 3, activation = 'relu', padding = 'same', kernel_initializer = 'he_normal')(conv6)\n",
        "\n",
        "    #(None, 25, 25, 256), (None, 24, 24, 256)\n",
        "    up7 = Conv2D(256, 2, activation = 'relu', padding = 'same', kernel_initializer = 'he_normal')(UpSampling2D(size = (2,2))(conv6))\n",
        "    merge7 = merge([conv3,up7], mode = 'concat', concat_axis = 3)\n",
        "    conv7 = Conv2D(256, 3, activation = 'relu', padding = 'same', kernel_initializer = 'he_normal')(merge7)\n",
        "    conv7 = Conv2D(256, 3, activation = 'relu', padding = 'same', kernel_initializer = 'he_normal')(conv7)\n",
        "\n",
        "    up8 = Conv2D(128, 2, activation = 'relu', padding = 'same', kernel_initializer = 'he_normal')(UpSampling2D(size = (2,2))(conv7))\n",
        "    merge8 = merge([conv2,up8], mode = 'concat', concat_axis = 3)\n",
        "    conv8 = Conv2D(128, 3, activation = 'relu', padding = 'same', kernel_initializer = 'he_normal')(merge8)\n",
        "    conv8 = Conv2D(128, 3, activation = 'relu', padding = 'same', kernel_initializer = 'he_normal')(conv8)\n",
        "\n",
        "    up9 = Conv2D(64, 2, activation = 'relu', padding = 'same', kernel_initializer = 'he_normal')(UpSampling2D(size = (2,2))(conv8))\n",
        "    merge9 = merge([conv1,up9], mode = 'concat', concat_axis = 3)\n",
        "    conv9 = Conv2D(64, 3, activation = 'relu', padding = 'same', kernel_initializer = 'he_normal')(merge9)\n",
        "    conv9 = Conv2D(64, 3, activation = 'relu', padding = 'same', kernel_initializer = 'he_normal')(conv9)\n",
        "    conv9 = Conv2D(2, 3, activation = 'relu', padding = 'same', kernel_initializer = 'he_normal')(conv9)\n",
        "    conv10 = Conv2D(1, 1, activation = 'sigmoid')(conv9)\n",
        "    crop = Cropping2D(cropping=((14, 13), (14, 13)))(conv10)\n",
        "\n",
        "    model = Model(inputs = inputs, output = crop)\n",
        "\n",
        "    #model.compile(optimizer = Adam(lr = 1e-4), loss = 'binary_crossentropy', metrics = ['accuracy'])\n",
        "    #model.compile(loss = 'binary_crossentropy', metrics = ['accuracy'])\n",
        "    \n",
        "    #model.summary()\n",
        "\n",
        "    if(pretrained_weights):\n",
        "    \tmodel.load_weights(pretrained_weights)\n",
        "\n",
        "    return model\n",
        "\n"
      ],
      "execution_count": 0,
      "outputs": []
    },
    {
      "metadata": {
        "id": "lAVhsVnraa_R",
        "colab_type": "code",
        "colab": {}
      },
      "cell_type": "code",
      "source": [
        "##### Define evaluation metrics\n",
        "class MeanIoU(object):\n",
        "    def __init__(self):\n",
        "        super().__init__()\n",
        "    def mean_iou(self, y_true, y_pred):\n",
        "        # Wraps np_mean_iou method and uses it as a TensorFlow op.\n",
        "        # Takes numpy arrays as its arguments and returns numpy arrays as outputs\n",
        "        return tf.py_func(self.np_mean_iou, [y_true, y_pred], tf.float64)\n",
        "    def np_mean_iou(self, y_true, y_pred):\n",
        "        y_pred = np.round(y_pred + 0.05, 0).reshape(-1)\n",
        "        y_true = y_true.reshape(-1)        \n",
        "        conf = confusion_matrix(y_pred, y_true)        \n",
        "        # Compute the IoU and mean IoU from the confusion matrix:\n",
        "        true_positive = conf[1,1]\n",
        "        false_positive = conf[1,0]\n",
        "        false_negative = conf[0,1]\n",
        "        # Just in case we get a division by 0, ignore/hide the error and set the value to 0\n",
        "        with np.errstate(divide='ignore', invalid='ignore'):\n",
        "            iou = true_positive / (true_positive + false_positive + false_negative)\n",
        "        #iou[np.isnan(iou)] = 0\n",
        "        return np.mean(iou).astype(np.float64)\n",
        "miou = MeanIoU()\n",
        "\n",
        "def bin_acc05(y_true, y_pred):\n",
        "    return K.mean(K.equal(y_true, K.round(y_pred + 0.05)), axis=-1)"
      ],
      "execution_count": 0,
      "outputs": []
    },
    {
      "metadata": {
        "id": "u4GlslIbbAG7",
        "colab_type": "code",
        "colab": {
          "base_uri": "https://localhost:8080/",
          "height": 1928
        },
        "outputId": "67ae4faf-1ab0-46ae-d87d-644cc80f399d"
      },
      "cell_type": "code",
      "source": [
        "##### Define model \n",
        "#model = conv_net(input_shape, num_layers, num_filters, kernel_sizes)\n",
        "model = unet()\n",
        "adam = optimizers.Adam(lr = 0.001)\n",
        "model.compile(loss = 'binary_crossentropy', optimizer='adam', \n",
        "              metrics=[bin_acc05, miou.mean_iou])\n",
        "model.summary()"
      ],
      "execution_count": 18,
      "outputs": [
        {
          "output_type": "stream",
          "text": [
            "/usr/local/lib/python3.6/dist-packages/ipykernel_launcher.py:26: UserWarning: Update your `MaxPooling2D` call to the Keras 2 API: `MaxPooling2D(pool_size=(2, 2), padding=\"same\")`\n",
            "/usr/local/lib/python3.6/dist-packages/ipykernel_launcher.py:29: UserWarning: Update your `MaxPooling2D` call to the Keras 2 API: `MaxPooling2D(pool_size=(2, 2), padding=\"same\")`\n",
            "/usr/local/lib/python3.6/dist-packages/ipykernel_launcher.py:32: UserWarning: Update your `MaxPooling2D` call to the Keras 2 API: `MaxPooling2D(pool_size=(2, 2), padding=\"same\")`\n",
            "/usr/local/lib/python3.6/dist-packages/ipykernel_launcher.py:36: UserWarning: Update your `MaxPooling2D` call to the Keras 2 API: `MaxPooling2D(pool_size=(2, 2), padding=\"same\")`\n",
            "/usr/local/lib/python3.6/dist-packages/ipykernel_launcher.py:43: UserWarning: The `merge` function is deprecated and will be removed after 08/2017. Use instead layers from `keras.layers.merge`, e.g. `add`, `concatenate`, etc.\n",
            "/usr/local/lib/python3.6/dist-packages/keras/legacy/layers.py:465: UserWarning: The `Merge` layer is deprecated and will be removed after 08/2017. Use instead layers from `keras.layers.merge`, e.g. `add`, `concatenate`, etc.\n",
            "  name=name)\n",
            "/usr/local/lib/python3.6/dist-packages/ipykernel_launcher.py:49: UserWarning: The `merge` function is deprecated and will be removed after 08/2017. Use instead layers from `keras.layers.merge`, e.g. `add`, `concatenate`, etc.\n",
            "/usr/local/lib/python3.6/dist-packages/ipykernel_launcher.py:54: UserWarning: The `merge` function is deprecated and will be removed after 08/2017. Use instead layers from `keras.layers.merge`, e.g. `add`, `concatenate`, etc.\n",
            "/usr/local/lib/python3.6/dist-packages/ipykernel_launcher.py:59: UserWarning: The `merge` function is deprecated and will be removed after 08/2017. Use instead layers from `keras.layers.merge`, e.g. `add`, `concatenate`, etc.\n",
            "/usr/local/lib/python3.6/dist-packages/ipykernel_launcher.py:66: UserWarning: Update your `Model` call to the Keras 2 API: `Model(inputs=Tensor(\"in..., outputs=Tensor(\"cr...)`\n"
          ],
          "name": "stderr"
        },
        {
          "output_type": "stream",
          "text": [
            "__________________________________________________________________________________________________\n",
            "Layer (type)                    Output Shape         Param #     Connected to                     \n",
            "==================================================================================================\n",
            "input_4 (InputLayer)            (None, 101, 101, 1)  0                                            \n",
            "__________________________________________________________________________________________________\n",
            "zero_padding2d_4 (ZeroPadding2D (None, 128, 128, 1)  0           input_4[0][0]                    \n",
            "__________________________________________________________________________________________________\n",
            "conv2d_47 (Conv2D)              (None, 128, 128, 64) 640         zero_padding2d_4[0][0]           \n",
            "__________________________________________________________________________________________________\n",
            "conv2d_48 (Conv2D)              (None, 128, 128, 64) 36928       conv2d_47[0][0]                  \n",
            "__________________________________________________________________________________________________\n",
            "max_pooling2d_13 (MaxPooling2D) (None, 64, 64, 64)   0           conv2d_48[0][0]                  \n",
            "__________________________________________________________________________________________________\n",
            "conv2d_49 (Conv2D)              (None, 64, 64, 128)  73856       max_pooling2d_13[0][0]           \n",
            "__________________________________________________________________________________________________\n",
            "conv2d_50 (Conv2D)              (None, 64, 64, 128)  147584      conv2d_49[0][0]                  \n",
            "__________________________________________________________________________________________________\n",
            "max_pooling2d_14 (MaxPooling2D) (None, 32, 32, 128)  0           conv2d_50[0][0]                  \n",
            "__________________________________________________________________________________________________\n",
            "conv2d_51 (Conv2D)              (None, 32, 32, 256)  295168      max_pooling2d_14[0][0]           \n",
            "__________________________________________________________________________________________________\n",
            "conv2d_52 (Conv2D)              (None, 32, 32, 256)  590080      conv2d_51[0][0]                  \n",
            "__________________________________________________________________________________________________\n",
            "max_pooling2d_15 (MaxPooling2D) (None, 16, 16, 256)  0           conv2d_52[0][0]                  \n",
            "__________________________________________________________________________________________________\n",
            "conv2d_53 (Conv2D)              (None, 16, 16, 512)  1180160     max_pooling2d_15[0][0]           \n",
            "__________________________________________________________________________________________________\n",
            "conv2d_54 (Conv2D)              (None, 16, 16, 512)  2359808     conv2d_53[0][0]                  \n",
            "__________________________________________________________________________________________________\n",
            "dropout_7 (Dropout)             (None, 16, 16, 512)  0           conv2d_54[0][0]                  \n",
            "__________________________________________________________________________________________________\n",
            "max_pooling2d_16 (MaxPooling2D) (None, 8, 8, 512)    0           dropout_7[0][0]                  \n",
            "__________________________________________________________________________________________________\n",
            "conv2d_55 (Conv2D)              (None, 8, 8, 1024)   4719616     max_pooling2d_16[0][0]           \n",
            "__________________________________________________________________________________________________\n",
            "conv2d_56 (Conv2D)              (None, 8, 8, 1024)   9438208     conv2d_55[0][0]                  \n",
            "__________________________________________________________________________________________________\n",
            "dropout_8 (Dropout)             (None, 8, 8, 1024)   0           conv2d_56[0][0]                  \n",
            "__________________________________________________________________________________________________\n",
            "up_sampling2d_7 (UpSampling2D)  (None, 16, 16, 1024) 0           dropout_8[0][0]                  \n",
            "__________________________________________________________________________________________________\n",
            "conv2d_57 (Conv2D)              (None, 16, 16, 512)  2097664     up_sampling2d_7[0][0]            \n",
            "__________________________________________________________________________________________________\n",
            "merge_5 (Merge)                 (None, 16, 16, 1024) 0           dropout_7[0][0]                  \n",
            "                                                                 conv2d_57[0][0]                  \n",
            "__________________________________________________________________________________________________\n",
            "conv2d_58 (Conv2D)              (None, 16, 16, 512)  4719104     merge_5[0][0]                    \n",
            "__________________________________________________________________________________________________\n",
            "conv2d_59 (Conv2D)              (None, 16, 16, 512)  2359808     conv2d_58[0][0]                  \n",
            "__________________________________________________________________________________________________\n",
            "up_sampling2d_8 (UpSampling2D)  (None, 32, 32, 512)  0           conv2d_59[0][0]                  \n",
            "__________________________________________________________________________________________________\n",
            "conv2d_60 (Conv2D)              (None, 32, 32, 256)  524544      up_sampling2d_8[0][0]            \n",
            "__________________________________________________________________________________________________\n",
            "merge_6 (Merge)                 (None, 32, 32, 512)  0           conv2d_52[0][0]                  \n",
            "                                                                 conv2d_60[0][0]                  \n",
            "__________________________________________________________________________________________________\n",
            "conv2d_61 (Conv2D)              (None, 32, 32, 256)  1179904     merge_6[0][0]                    \n",
            "__________________________________________________________________________________________________\n",
            "conv2d_62 (Conv2D)              (None, 32, 32, 256)  590080      conv2d_61[0][0]                  \n",
            "__________________________________________________________________________________________________\n",
            "up_sampling2d_9 (UpSampling2D)  (None, 64, 64, 256)  0           conv2d_62[0][0]                  \n",
            "__________________________________________________________________________________________________\n",
            "conv2d_63 (Conv2D)              (None, 64, 64, 128)  131200      up_sampling2d_9[0][0]            \n",
            "__________________________________________________________________________________________________\n",
            "merge_7 (Merge)                 (None, 64, 64, 256)  0           conv2d_50[0][0]                  \n",
            "                                                                 conv2d_63[0][0]                  \n",
            "__________________________________________________________________________________________________\n",
            "conv2d_64 (Conv2D)              (None, 64, 64, 128)  295040      merge_7[0][0]                    \n",
            "__________________________________________________________________________________________________\n",
            "conv2d_65 (Conv2D)              (None, 64, 64, 128)  147584      conv2d_64[0][0]                  \n",
            "__________________________________________________________________________________________________\n",
            "up_sampling2d_10 (UpSampling2D) (None, 128, 128, 128 0           conv2d_65[0][0]                  \n",
            "__________________________________________________________________________________________________\n",
            "conv2d_66 (Conv2D)              (None, 128, 128, 64) 32832       up_sampling2d_10[0][0]           \n",
            "__________________________________________________________________________________________________\n",
            "merge_8 (Merge)                 (None, 128, 128, 128 0           conv2d_48[0][0]                  \n",
            "                                                                 conv2d_66[0][0]                  \n",
            "__________________________________________________________________________________________________\n",
            "conv2d_67 (Conv2D)              (None, 128, 128, 64) 73792       merge_8[0][0]                    \n",
            "__________________________________________________________________________________________________\n",
            "conv2d_68 (Conv2D)              (None, 128, 128, 64) 36928       conv2d_67[0][0]                  \n",
            "__________________________________________________________________________________________________\n",
            "conv2d_69 (Conv2D)              (None, 128, 128, 2)  1154        conv2d_68[0][0]                  \n",
            "__________________________________________________________________________________________________\n",
            "conv2d_70 (Conv2D)              (None, 128, 128, 1)  3           conv2d_69[0][0]                  \n",
            "__________________________________________________________________________________________________\n",
            "cropping2d_2 (Cropping2D)       (None, 101, 101, 1)  0           conv2d_70[0][0]                  \n",
            "==================================================================================================\n",
            "Total params: 31,031,685\n",
            "Trainable params: 31,031,685\n",
            "Non-trainable params: 0\n",
            "__________________________________________________________________________________________________\n"
          ],
          "name": "stdout"
        }
      ]
    },
    {
      "metadata": {
        "id": "zBVQkbbJbCbK",
        "colab_type": "code",
        "colab": {
          "base_uri": "https://localhost:8080/",
          "height": 437
        },
        "outputId": "fe960284-f75b-4dff-f39b-9ab1c74384d1"
      },
      "cell_type": "code",
      "source": [
        "##### Run model\n",
        "model.fit(x_train, y_train, epochs=10, batch_size=64, validation_data=(x_val,y_val), verbose=1)"
      ],
      "execution_count": 8,
      "outputs": [
        {
          "output_type": "stream",
          "text": [
            "Train on 3600 samples, validate on 400 samples\n",
            "Epoch 1/10\n",
            "3600/3600 [==============================] - 140s 39ms/step - loss: 0.6867 - bin_acc05: 0.2466 - mean_iou: 0.2466 - val_loss: 0.6802 - val_bin_acc05: 0.2601 - val_mean_iou: 0.2601\n",
            "Epoch 2/10\n",
            "3600/3600 [==============================] - 117s 32ms/step - loss: 0.6732 - bin_acc05: 0.2466 - mean_iou: 0.2466 - val_loss: 0.6682 - val_bin_acc05: 0.2601 - val_mean_iou: 0.2601\n",
            "Epoch 3/10\n",
            "3600/3600 [==============================] - 116s 32ms/step - loss: 0.6611 - bin_acc05: 0.2466 - mean_iou: 0.2466 - val_loss: 0.6574 - val_bin_acc05: 0.2601 - val_mean_iou: 0.2601\n",
            "Epoch 4/10\n",
            "3600/3600 [==============================] - 116s 32ms/step - loss: 0.6500 - bin_acc05: 0.3736 - mean_iou: 0.1834 - val_loss: 0.6476 - val_bin_acc05: 0.7399 - val_mean_iou: 0.0000e+00\n",
            "Epoch 5/10\n",
            "3600/3600 [==============================] - 116s 32ms/step - loss: 0.6399 - bin_acc05: 0.7534 - mean_iou: 0.0000e+00 - val_loss: 0.6386 - val_bin_acc05: 0.7399 - val_mean_iou: 0.0000e+00\n",
            "Epoch 6/10\n",
            "3600/3600 [==============================] - 117s 33ms/step - loss: 0.6307 - bin_acc05: 0.7534 - mean_iou: 0.0000e+00 - val_loss: 0.6304 - val_bin_acc05: 0.7399 - val_mean_iou: 0.0000e+00\n",
            "Epoch 7/10\n",
            "3600/3600 [==============================] - 117s 32ms/step - loss: 0.6224 - bin_acc05: 0.7534 - mean_iou: 0.0000e+00 - val_loss: 0.6232 - val_bin_acc05: 0.7399 - val_mean_iou: 0.0000e+00\n",
            "Epoch 8/10\n",
            "3600/3600 [==============================] - 117s 32ms/step - loss: 0.6149 - bin_acc05: 0.7534 - mean_iou: 0.0000e+00 - val_loss: 0.6168 - val_bin_acc05: 0.7399 - val_mean_iou: 0.0000e+00\n",
            "Epoch 9/10\n",
            "3600/3600 [==============================] - 117s 32ms/step - loss: 0.6082 - bin_acc05: 0.7534 - mean_iou: 0.0000e+00 - val_loss: 0.6109 - val_bin_acc05: 0.7399 - val_mean_iou: 0.0000e+00\n",
            "Epoch 10/10\n",
            "3600/3600 [==============================] - 117s 32ms/step - loss: 0.6020 - bin_acc05: 0.7534 - mean_iou: 0.0000e+00 - val_loss: 0.6058 - val_bin_acc05: 0.7399 - val_mean_iou: 0.0000e+00\n"
          ],
          "name": "stdout"
        },
        {
          "output_type": "execute_result",
          "data": {
            "text/plain": [
              "<keras.callbacks.History at 0x7f30f8826d68>"
            ]
          },
          "metadata": {
            "tags": []
          },
          "execution_count": 8
        }
      ]
    },
    {
      "metadata": {
        "id": "FoMjRjnvbRvD",
        "colab_type": "code",
        "colab": {
          "base_uri": "https://localhost:8080/",
          "height": 54
        },
        "outputId": "90d72ce3-4ac0-4781-99af-9e2640f5aaca"
      },
      "cell_type": "code",
      "source": [
        "##### Predict results\n",
        "y_train_pred = model.predict(x_train, verbose=1)\n",
        "y_val_pred = model.predict(x_val, verbose=1)"
      ],
      "execution_count": 9,
      "outputs": [
        {
          "output_type": "stream",
          "text": [
            "3600/3600 [==============================] - 40s 11ms/step\n",
            "400/400 [==============================] - 4s 10ms/step\n"
          ],
          "name": "stdout"
        }
      ]
    },
    {
      "metadata": {
        "id": "_Wze9V3XqFtf",
        "colab_type": "code",
        "colab": {
          "base_uri": "https://localhost:8080/",
          "height": 35
        },
        "outputId": "e3931aae-3aa2-4a09-ae3c-403e72b4eb81"
      },
      "cell_type": "code",
      "source": [
        "y_train_pred.max()"
      ],
      "execution_count": 12,
      "outputs": [
        {
          "output_type": "execute_result",
          "data": {
            "text/plain": [
              "0.38086942"
            ]
          },
          "metadata": {
            "tags": []
          },
          "execution_count": 12
        }
      ]
    },
    {
      "metadata": {
        "id": "5yynj3gFbE_B",
        "colab_type": "code",
        "colab": {}
      },
      "cell_type": "code",
      "source": [
        "###### Download results to local computer for evaluation\n",
        "from google.colab import files\n",
        "results_train = pd.DataFrame({'y_train': y_train.reshape(-1),'y_train_pred': y_train_pred.reshape(-1)})\n",
        "results_train.to_csv(\"results_train.csv\")\n",
        "results_val = pd.DataFrame({'y_val': y_val.reshape(-1),'y_val_pred': y_val_pred.reshape(-1)})\n",
        "results_val.to_csv(\"results_val.csv\")\n",
        "files.download('results_train.csv')\n",
        "files.download('results_val.csv')"
      ],
      "execution_count": 0,
      "outputs": []
    }
  ]
}
