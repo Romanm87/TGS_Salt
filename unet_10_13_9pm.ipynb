{
  "nbformat": 4,
  "nbformat_minor": 0,
  "metadata": {
    "colab": {
      "name": "unet_10-13_9pm.ipynb",
      "version": "0.3.2",
      "provenance": [],
      "collapsed_sections": [],
      "include_colab_link": true
    },
    "kernelspec": {
      "name": "python3",
      "display_name": "Python 3"
    }
  },
  "cells": [
    {
      "cell_type": "markdown",
      "metadata": {
        "id": "view-in-github",
        "colab_type": "text"
      },
      "source": [
        "[View in Colaboratory](https://colab.research.google.com/github/roman807/TGS_Salt/blob/master/unet_10_13_9pm.ipynb)"
      ]
    },
    {
      "metadata": {
        "id": "f5Dnee-bbRvx",
        "colab_type": "text"
      },
      "cell_type": "markdown",
      "source": [
        "Unet: train model and evaluate results"
      ]
    },
    {
      "metadata": {
        "id": "LepinJ_1bZdo",
        "colab_type": "code",
        "colab": {
          "base_uri": "https://localhost:8080/",
          "height": 34
        },
        "outputId": "aa0f15fc-0e22-4e1c-a26d-b5f64bd774a5"
      },
      "cell_type": "code",
      "source": [
        "import numpy as np\n",
        "import pandas as pd\n",
        "import matplotlib.pyplot as plt\n",
        "from keras.models import Model\n",
        "from keras import optimizers\n",
        "from keras import backend as K\n",
        "from sklearn.metrics import confusion_matrix, log_loss\n",
        "from google.colab import files\n",
        "import tensorflow as tf\n",
        "import cv2\n",
        "import os\n",
        "import json\n",
        "import zipfile\n",
        "import skimage.io as io\n",
        "import skimage.transform as trans\n",
        "from keras.layers import *\n",
        "from keras.callbacks import ModelCheckpoint, LearningRateScheduler\n",
        "import h5py"
      ],
      "execution_count": 1,
      "outputs": [
        {
          "output_type": "stream",
          "text": [
            "Using TensorFlow backend.\n"
          ],
          "name": "stderr"
        }
      ]
    },
    {
      "metadata": {
        "id": "hbj53MyPbcpq",
        "colab_type": "code",
        "colab": {
          "base_uri": "https://localhost:8080/",
          "height": 694
        },
        "outputId": "9f57f6a3-e190-4b8c-9577-040d7a958803"
      },
      "cell_type": "code",
      "source": [
        "##### Use kaggle API\n",
        "!pip install kaggle\n",
        "api_token = {\"username\":\"romanm87\",\"key\":\"daa9da19c31bf091978760ad6eb373f3\"}\n",
        "os.chdir('/')\n",
        "!mkdir ~/.kaggle #kaggle API searches in root directory for .kaggle/kaggle.json\n",
        "with open('/root/.kaggle/kaggle.json', 'w') as file:\n",
        "    json.dump(api_token, file)\n",
        "!chmod 600 /root/.kaggle/kaggle.json\n",
        "# API link from Kaggle:\n",
        "!kaggle competitions download -c tgs-salt-identification-challenge\n",
        "zip_ref = zipfile.ZipFile('train.zip', 'r')\n",
        "zip_ref.extractall()\n",
        "zip_ref.close()"
      ],
      "execution_count": 2,
      "outputs": [
        {
          "output_type": "stream",
          "text": [
            "Collecting kaggle\n",
            "\u001b[?25l  Downloading https://files.pythonhosted.org/packages/c6/78/832b9a9ec6b3baf8ec566e1f0a695f2fd08d2c94a6797257a106304bfc3c/kaggle-1.4.7.1.tar.gz (52kB)\n",
            "\u001b[K    100% |████████████████████████████████| 61kB 1.8MB/s \n",
            "\u001b[?25hRequirement already satisfied: urllib3<1.23.0,>=1.15 in /usr/local/lib/python3.6/dist-packages (from kaggle) (1.22)\n",
            "Requirement already satisfied: six>=1.10 in /usr/local/lib/python3.6/dist-packages (from kaggle) (1.11.0)\n",
            "Requirement already satisfied: certifi in /usr/local/lib/python3.6/dist-packages (from kaggle) (2018.8.24)\n",
            "Requirement already satisfied: python-dateutil in /usr/local/lib/python3.6/dist-packages (from kaggle) (2.5.3)\n",
            "Requirement already satisfied: requests in /usr/local/lib/python3.6/dist-packages (from kaggle) (2.18.4)\n",
            "Requirement already satisfied: tqdm in /usr/local/lib/python3.6/dist-packages (from kaggle) (4.26.0)\n",
            "Collecting python-slugify (from kaggle)\n",
            "  Downloading https://files.pythonhosted.org/packages/00/ad/c778a6df614b6217c30fe80045b365bfa08b5dd3cb02e8b37a6d25126781/python-slugify-1.2.6.tar.gz\n",
            "Requirement already satisfied: chardet<3.1.0,>=3.0.2 in /usr/local/lib/python3.6/dist-packages (from requests->kaggle) (3.0.4)\n",
            "Requirement already satisfied: idna<2.7,>=2.5 in /usr/local/lib/python3.6/dist-packages (from requests->kaggle) (2.6)\n",
            "Collecting Unidecode>=0.04.16 (from python-slugify->kaggle)\n",
            "\u001b[?25l  Downloading https://files.pythonhosted.org/packages/59/ef/67085e30e8bbcdd76e2f0a4ad8151c13a2c5bce77c85f8cad6e1f16fb141/Unidecode-1.0.22-py2.py3-none-any.whl (235kB)\n",
            "\u001b[K    100% |████████████████████████████████| 235kB 5.9MB/s \n",
            "\u001b[?25hBuilding wheels for collected packages: kaggle, python-slugify\n",
            "  Running setup.py bdist_wheel for kaggle ... \u001b[?25l-\b \b\\\b \bdone\n",
            "\u001b[?25h  Stored in directory: /root/.cache/pip/wheels/44/2c/df/22a6eeb780c36c28190faef6252b739fdc47145fd87a6642d4\n",
            "  Running setup.py bdist_wheel for python-slugify ... \u001b[?25l-\b \bdone\n",
            "\u001b[?25h  Stored in directory: /root/.cache/pip/wheels/e3/65/da/2045deea3098ed7471eca0e2460cfbd3fdfe8c1d6fa6fcac92\n",
            "Successfully built kaggle python-slugify\n",
            "Installing collected packages: Unidecode, python-slugify, kaggle\n",
            "Successfully installed Unidecode-1.0.22 kaggle-1.4.7.1 python-slugify-1.2.6\n",
            "Downloading depths.csv to /\n",
            "  0% 0.00/322k [00:00<?, ?B/s]\n",
            "100% 322k/322k [00:00<00:00, 60.9MB/s]\n",
            "Downloading sample_submission.csv to /\n",
            "  0% 0.00/264k [00:00<?, ?B/s]\n",
            "100% 264k/264k [00:00<00:00, 76.5MB/s]\n",
            "Downloading train.csv to /\n",
            "  0% 0.00/922k [00:00<?, ?B/s]\n",
            "100% 922k/922k [00:00<00:00, 61.1MB/s]\n",
            "Downloading test.zip to /\n",
            " 93% 152M/163M [00:01<00:00, 111MB/s] \n",
            "100% 163M/163M [00:01<00:00, 111MB/s]\n",
            "Downloading train.zip to /\n",
            " 45% 17.0M/37.9M [00:00<00:00, 69.0MB/s]\n",
            "100% 37.9M/37.9M [00:00<00:00, 132MB/s] \n"
          ],
          "name": "stdout"
        }
      ]
    },
    {
      "metadata": {
        "id": "5ENokPHZbhQw",
        "colab_type": "code",
        "colab": {}
      },
      "cell_type": "code",
      "source": [
        "##### Prepare data\n",
        "tr_image_dir = os.chdir('/images')\n",
        "train_im = os.listdir(tr_image_dir)\n",
        "x = np.array([np.array(cv2.imread(p, cv2.IMREAD_GRAYSCALE)) for p in train_im]) / 255\n",
        "tr_masks_dir = os.chdir('/masks')\n",
        "train_ma = os.listdir(tr_masks_dir)\n",
        "y = np.array([np.array(cv2.imread(p, cv2.IMREAD_GRAYSCALE)) for p in train_ma]) / 255\n",
        "# expand dimensions for CNN\n",
        "x = np.expand_dims(x, axis=3)\n",
        "y = np.expand_dims(y, axis=3)\n",
        "# split training vs validation set\n",
        "train_val_split = 0.1\n",
        "x_train = x[0:int(x.shape[0]*(1-train_val_split)),:,:,:]\n",
        "y_train = y[0:int(y.shape[0]*(1-train_val_split)),:,:,:]\n",
        "x_val = x[int(x.shape[0]*(1-train_val_split)):,:,:,:]\n",
        "y_val = y[int(y.shape[0]*(1-train_val_split)):,:,:,:]"
      ],
      "execution_count": 0,
      "outputs": []
    },
    {
      "metadata": {
        "id": "VM_PQxiLbqpH",
        "colab_type": "code",
        "colab": {}
      },
      "cell_type": "code",
      "source": [
        "##### define model\n",
        "\n",
        "def unet(pretrained_weights = None, input_size=(101,101,1)):\n",
        "    inputs = Input(input_size)\n",
        "    input_padded = ZeroPadding2D(padding=((14, 13), (14, 13)))(inputs)  ## use zero padding to match dims after maxpool/upsample\n",
        "    conv1 = Conv2D(32, 3, activation='relu', padding='same', kernel_initializer='he_normal')(input_padded)\n",
        "    conv1 = Conv2D(32, 3, activation='relu', padding='same', kernel_initializer='he_normal')(conv1)\n",
        "    conv1 = Conv2D(32, 2, activation='relu', padding='same', kernel_initializer='he_normal')(conv1)\n",
        "    conv1 = Conv2D(32, 2, activation='relu', padding='same', kernel_initializer='he_normal')(conv1)\n",
        "    pool1 = MaxPooling2D(pool_size=(2, 2), border_mode=\"same\")(conv1)\n",
        "    conv2 = Conv2D(64, 3, activation='relu', padding='same', kernel_initializer='he_normal')(pool1)\n",
        "    conv2 = Conv2D(64, 3, activation='relu', padding='same', kernel_initializer='he_normal')(conv2)\n",
        "    conv2 = Conv2D(64, 2, activation='relu', padding='same', kernel_initializer='he_normal')(conv2)\n",
        "    conv2 = Conv2D(64, 2, activation='relu', padding='same', kernel_initializer='he_normal')(conv2)\n",
        "    pool2 = MaxPooling2D(pool_size=(2, 2), border_mode=\"same\")(conv2)\n",
        "    conv3 = Conv2D(128, 3, activation='relu', padding='same', kernel_initializer='he_normal')(pool2)\n",
        "    conv3 = Conv2D(128, 3, activation='relu', padding='same', kernel_initializer='he_normal')(conv3)\n",
        "    conv3 = Conv2D(128, 2, activation='relu', padding='same', kernel_initializer='he_normal')(conv3)\n",
        "    conv3 = Conv2D(128, 2, activation='relu', padding='same', kernel_initializer='he_normal')(conv3)\n",
        "    pool3 = MaxPooling2D(pool_size=(2, 2), border_mode=\"same\")(conv3)\n",
        "    conv4 = Conv2D(256, 3, activation='relu', padding='same', kernel_initializer='he_normal')(pool3)\n",
        "    conv4 = Conv2D(256, 3, activation='relu', padding='same', kernel_initializer='he_normal')(conv4)\n",
        "    conv4 = Conv2D(256, 2, activation='relu', padding='same', kernel_initializer='he_normal')(conv4)\n",
        "    conv4 = Conv2D(256, 2, activation='relu', padding='same', kernel_initializer='he_normal')(conv4)\n",
        "    pool4 = MaxPooling2D(pool_size=(2, 2), border_mode=\"same\")(conv4)#(drop4)\n",
        "    conv5 = Conv2D(512, 3, activation='relu', padding='same', kernel_initializer='he_normal')(pool4)\n",
        "    conv5 = Conv2D(512, 3, activation='relu', padding='same', kernel_initializer='he_normal')(conv5)\n",
        "    conv5 = Conv2D(512, 2, activation='relu', padding='same', kernel_initializer='he_normal')(conv5)\n",
        "    conv5 = Conv2D(512, 2, activation='relu', padding='same', kernel_initializer='he_normal')(conv5)\n",
        "    \n",
        "    pool5 = MaxPooling2D(pool_size=(2, 2), border_mode=\"same\")(conv5)\n",
        "    conv5b = Conv2D(1024, 3, activation='relu', padding='same', kernel_initializer='he_normal')(pool5)\n",
        "    conv5b = Conv2D(1024, 3, activation='relu', padding='same', kernel_initializer='he_normal')(conv5b)\n",
        "    conv5b = Conv2D(1024, 2, activation='relu', padding='same', kernel_initializer='he_normal')(conv5b)\n",
        "    conv5b = Conv2D(1024, 2, activation='relu', padding='same', kernel_initializer='he_normal')(conv5b)\n",
        "    up5b = Conv2D(512, 2, activation='relu', padding='same', kernel_initializer='he_normal')(UpSampling2D(size = (2,2))(conv5b))\n",
        "    merge6 = merge([conv5,up5b], mode='concat', concat_axis = 3)\n",
        "    conv6 = Conv2D(512, 3, activation='relu', padding='same', kernel_initializer='he_normal')(merge6)\n",
        "    conv6 = Conv2D(512, 3, activation='relu', padding='same', kernel_initializer='he_normal')(conv6)\n",
        "    conv6 = Conv2D(512, 3, activation='relu', padding='same', kernel_initializer='he_normal')(conv6)\n",
        "    conv6 = Conv2D(512, 3, activation='relu', padding='same', kernel_initializer='he_normal')(conv6)\n",
        "    \n",
        "    up6 = Conv2D(256, 2, activation='relu', padding='same', kernel_initializer='he_normal')(UpSampling2D(size = (2,2))(conv5))\n",
        "    merge6 = merge([conv4,up6], mode='concat', concat_axis = 3)\n",
        "    conv6 = Conv2D(256, 3, activation='relu', padding='same', kernel_initializer='he_normal')(merge6)\n",
        "    conv6 = Conv2D(256, 3, activation='relu', padding='same', kernel_initializer='he_normal')(conv6)\n",
        "    conv6 = Conv2D(256, 3, activation='relu', padding='same', kernel_initializer='he_normal')(conv6)\n",
        "    conv6 = Conv2D(256, 3, activation='relu', padding='same', kernel_initializer='he_normal')(conv6)\n",
        "    up7 = Conv2D(128, 2, activation='relu', padding='same', kernel_initializer='he_normal')(UpSampling2D(size=(2,2))(conv6))\n",
        "    merge7 = merge([conv3,up7], mode='concat', concat_axis = 3)\n",
        "    conv7 = Conv2D(128, 3, activation='relu', padding='same', kernel_initializer='he_normal')(merge7)\n",
        "    conv7 = Conv2D(128, 3, activation='relu', padding='same', kernel_initializer='he_normal')(conv7)\n",
        "    conv7 = Conv2D(128, 3, activation='relu', padding='same', kernel_initializer='he_normal')(conv7)\n",
        "    conv7 = Conv2D(128, 3, activation='relu', padding='same', kernel_initializer='he_normal')(conv7)\n",
        "    up8 = Conv2D(64, 2, activation='relu', padding='same', kernel_initializer='he_normal')(UpSampling2D(size = (2,2))(conv7))\n",
        "    merge8 = merge([conv2,up8], mode='concat', concat_axis=3)\n",
        "    conv8 = Conv2D(64, 3, activation='relu', padding='same', kernel_initializer='he_normal')(merge8)\n",
        "    conv8 = Conv2D(64, 3, activation='relu', padding='same', kernel_initializer='he_normal')(conv8)\n",
        "    conv8 = Conv2D(64, 3, activation='relu', padding='same', kernel_initializer='he_normal')(conv8)\n",
        "    conv8 = Conv2D(64, 3, activation='relu', padding='same', kernel_initializer='he_normal')(conv8)\n",
        "    up9 = Conv2D(32, 2, activation='relu', padding='same', kernel_initializer='he_normal')(UpSampling2D(size = (2,2))(conv8))\n",
        "    merge9 = merge([conv1,up9], mode='concat', concat_axis=3)\n",
        "    conv9 = Conv2D(32, 3, activation='relu', padding='same', kernel_initializer='he_normal')(merge9)\n",
        "    conv9 = Conv2D(32, 3, activation='relu', padding='same', kernel_initializer='he_normal')(conv9)\n",
        "    conv9 = Conv2D(32, 3, activation='relu', padding='same', kernel_initializer='he_normal')(conv9)\n",
        "    conv9 = Conv2D(2, 3, activation='relu', padding='same', kernel_initializer='he_normal')(conv9)\n",
        "    conv10 = Conv2D(1, 1, activation='sigmoid')(conv9)\n",
        "    crop = Cropping2D(cropping=((14, 13), (14, 13)))(conv10)\n",
        "    model = Model(inputs=inputs, output=crop)\n",
        "    if(pretrained_weights):\n",
        "    \tmodel.load_weights(pretrained_weights)\n",
        "    return model\n",
        "  \n",
        "# def unet(pretrained_weights = None, input_size=(101,101,1), ks=kernel_size):\n",
        "#     inputs = Input(input_size)\n",
        "#     input_padded = ZeroPadding2D(padding=((14, 13), (14, 13)))(inputs)  ## use zero padding to match dims after maxpool/upsample\n",
        "#     conv1 = Conv2D(64, 4, activation='relu', padding='same', kernel_initializer='he_normal')(input_padded)\n",
        "#     conv1 = Conv2D(64, 3, activation='relu', padding='same', kernel_initializer='he_normal')(conv1)\n",
        "#     conv1 = Conv2D(64, 2, activation='relu', padding='same', kernel_initializer='he_normal')(conv1)\n",
        "#     pool1 = MaxPooling2D(pool_size=(2, 2), border_mode=\"same\")(conv1)\n",
        "#     conv2 = Conv2D(128, 4, activation='relu', padding='same', kernel_initializer='he_normal')(pool1)\n",
        "#     conv2 = Conv2D(128, 3, activation='relu', padding='same', kernel_initializer='he_normal')(conv2)\n",
        "#     conv2 = Conv2D(128, 2, activation='relu', padding='same', kernel_initializer='he_normal')(conv2)\n",
        "#     pool2 = MaxPooling2D(pool_size=(2, 2), border_mode=\"same\")(conv2)\n",
        "#     conv3 = Conv2D(256, 4, activation='relu', padding='same', kernel_initializer='he_normal')(pool2)\n",
        "#     conv3 = Conv2D(256, 3, activation='relu', padding='same', kernel_initializer='he_normal')(conv3)\n",
        "#     conv3 = Conv2D(256, 2, activation='relu', padding='same', kernel_initializer='he_normal')(conv3)\n",
        "#     pool3 = MaxPooling2D(pool_size=(2, 2), border_mode=\"same\")(conv3)\n",
        "#     conv4 = Conv2D(512, 4, activation='relu', padding='same', kernel_initializer='he_normal')(pool3)\n",
        "#     conv4 = Conv2D(512, 3, activation='relu', padding='same', kernel_initializer='he_normal')(conv4)\n",
        "#     conv4 = Conv2D(512, 2, activation='relu', padding='same', kernel_initializer='he_normal')(conv4)\n",
        "#     pool4 = MaxPooling2D(pool_size=(2, 2), border_mode=\"same\")(conv4)#(drop4)\n",
        "#     conv5 = Conv2D(1024, 4, activation='relu', padding='same', kernel_initializer='he_normal')(pool4)\n",
        "#     conv5 = Conv2D(1024, 3, activation='relu', padding='same', kernel_initializer='he_normal')(conv5)\n",
        "#     conv5 = Conv2D(1024, 2, activation='relu', padding='same', kernel_initializer='he_normal')(conv5)\n",
        "#     up6 = Conv2D(512, 2, activation='relu', padding='same', kernel_initializer='he_normal')(UpSampling2D(size = (2,2))(conv5))\n",
        "#     merge6 = merge([conv4,up6], mode='concat', concat_axis = 3)\n",
        "#     conv6 = Conv2D(512, 3, activation='relu', padding='same', kernel_initializer='he_normal')(merge6)\n",
        "#     conv6 = Conv2D(512, 3, activation='relu', padding='same', kernel_initializer='he_normal')(conv6)\n",
        "#     conv6 = Conv2D(512, 3, activation='relu', padding='same', kernel_initializer='he_normal')(conv6)\n",
        "#     up7 = Conv2D(256, 2, activation='relu', padding='same', kernel_initializer='he_normal')(UpSampling2D(size=(2,2))(conv6))\n",
        "#     merge7 = merge([conv3,up7], mode='concat', concat_axis = 3)\n",
        "#     conv7 = Conv2D(256, 3, activation='relu', padding='same', kernel_initializer='he_normal')(merge7)\n",
        "#     conv7 = Conv2D(256, 3, activation='relu', padding='same', kernel_initializer='he_normal')(conv7)\n",
        "#     conv7 = Conv2D(256, 3, activation='relu', padding='same', kernel_initializer='he_normal')(conv7)\n",
        "#     up8 = Conv2D(128, 2, activation='relu', padding='same', kernel_initializer='he_normal')(UpSampling2D(size = (2,2))(conv7))\n",
        "#     merge8 = merge([conv2,up8], mode='concat', concat_axis=3)\n",
        "#     conv8 = Conv2D(128, 3, activation='relu', padding='same', kernel_initializer='he_normal')(merge8)\n",
        "#     conv8 = Conv2D(128, 3, activation='relu', padding='same', kernel_initializer='he_normal')(conv8)\n",
        "#     conv8 = Conv2D(128, 3, activation='relu', padding='same', kernel_initializer='he_normal')(conv8)\n",
        "#     up9 = Conv2D(64, 2, activation='relu', padding='same', kernel_initializer='he_normal')(UpSampling2D(size = (2,2))(conv8))\n",
        "#     merge9 = merge([conv1,up9], mode='concat', concat_axis=3)\n",
        "#     conv9 = Conv2D(64, 3, activation='relu', padding='same', kernel_initializer='he_normal')(merge9)\n",
        "#     conv9 = Conv2D(64, 3, activation='relu', padding='same', kernel_initializer='he_normal')(conv9)\n",
        "#     conv9 = Conv2D(2, 3, activation='relu', padding='same', kernel_initializer='he_normal')(conv9)\n",
        "#     conv10 = Conv2D(1, 1, activation='sigmoid')(conv9)\n",
        "#     crop = Cropping2D(cropping=((14, 13), (14, 13)))(conv10)\n",
        "#     model = Model(inputs=inputs, output=crop)\n",
        "#     if(pretrained_weights):\n",
        "#     \tmodel.load_weights(pretrained_weights)\n",
        "#     return model\n"
      ],
      "execution_count": 0,
      "outputs": []
    },
    {
      "metadata": {
        "id": "NcCHRAf0b2br",
        "colab_type": "code",
        "colab": {}
      },
      "cell_type": "code",
      "source": [
        "##### Define evaluation metrics [NOT IN USE]\n",
        "# class MeanIoU(object):\n",
        "#     def __init__(self):\n",
        "#         super().__init__()\n",
        "#     def mean_iou(self, y_true, y_pred):\n",
        "#         # Wraps np_mean_iou method and uses it as a TensorFlow op.\n",
        "#         # Takes numpy arrays as its arguments and returns numpy arrays as outputs\n",
        "#         return tf.py_func(self.np_mean_iou, [y_true, y_pred], tf.float64)\n",
        "#     def np_mean_iou(self, y_true, y_pred):\n",
        "#         y_pred = np.round(y_pred + 0.05, 0).reshape(-1)\n",
        "#         y_true = y_true.reshape(-1)        \n",
        "#         conf = confusion_matrix(y_pred, y_true)        \n",
        "#         # Compute the IoU and mean IoU from the confusion matrix:\n",
        "#         true_positive = conf[1,1]\n",
        "#         false_positive = conf[1,0]\n",
        "#         false_negative = conf[0,1]\n",
        "#         # Just in case we get a division by 0, ignore/hide the error and set the value to 0\n",
        "#         with np.errstate(divide='ignore', invalid='ignore'):\n",
        "#             iou = true_positive / (true_positive + false_positive + false_negative)\n",
        "#         #iou[np.isnan(iou)] = 0\n",
        "#         return np.mean(iou).astype(np.float64)\n",
        "# miou = MeanIoU()\n",
        "# def bin_acc05(y_true, y_pred):\n",
        "#     return K.mean(K.equal(y_true, K.round(y_pred + 0.05)), axis=-1)"
      ],
      "execution_count": 0,
      "outputs": []
    },
    {
      "metadata": {
        "id": "X3Vn5GGTcHX-",
        "colab_type": "code",
        "colab": {
          "base_uri": "https://localhost:8080/",
          "height": 2434
        },
        "outputId": "f59396ef-a7da-4c31-8e8d-370229882ffd"
      },
      "cell_type": "code",
      "source": [
        "##### Define model \n",
        "\n",
        "# # sgd (decay learning rate by 10 over all training steps)\n",
        "# n_epochs = 20\n",
        "# batch_size = 100\n",
        "# n_steps = (3600 / batch_size) * n_epochs\n",
        "# total_decay = 0.001\n",
        "# decay = 1 - total_decay ** (1 / n_steps)\n",
        "\n",
        "model = unet()\n",
        "adam = optimizers.Adam(lr = 1e-4)   # best run 1e-4 // defaul: 1e-3\n",
        "#sgd = optimizers.SGD(lr=0.1, momentum=0.99, decay=decay, nesterov=False)\n",
        "model.compile(loss = 'binary_crossentropy', optimizer=adam, metrics=['accuracy'])\n",
        "model.summary()"
      ],
      "execution_count": 5,
      "outputs": [
        {
          "output_type": "stream",
          "text": [
            "/usr/local/lib/python3.6/dist-packages/ipykernel_launcher.py:9: UserWarning: Update your `MaxPooling2D` call to the Keras 2 API: `MaxPooling2D(pool_size=(2, 2), padding=\"same\")`\n",
            "  if __name__ == '__main__':\n",
            "/usr/local/lib/python3.6/dist-packages/ipykernel_launcher.py:14: UserWarning: Update your `MaxPooling2D` call to the Keras 2 API: `MaxPooling2D(pool_size=(2, 2), padding=\"same\")`\n",
            "  \n",
            "/usr/local/lib/python3.6/dist-packages/ipykernel_launcher.py:19: UserWarning: Update your `MaxPooling2D` call to the Keras 2 API: `MaxPooling2D(pool_size=(2, 2), padding=\"same\")`\n",
            "/usr/local/lib/python3.6/dist-packages/ipykernel_launcher.py:24: UserWarning: Update your `MaxPooling2D` call to the Keras 2 API: `MaxPooling2D(pool_size=(2, 2), padding=\"same\")`\n",
            "/usr/local/lib/python3.6/dist-packages/ipykernel_launcher.py:30: UserWarning: Update your `MaxPooling2D` call to the Keras 2 API: `MaxPooling2D(pool_size=(2, 2), padding=\"same\")`\n",
            "/usr/local/lib/python3.6/dist-packages/ipykernel_launcher.py:36: UserWarning: The `merge` function is deprecated and will be removed after 08/2017. Use instead layers from `keras.layers.merge`, e.g. `add`, `concatenate`, etc.\n",
            "/usr/local/lib/python3.6/dist-packages/keras/legacy/layers.py:465: UserWarning: The `Merge` layer is deprecated and will be removed after 08/2017. Use instead layers from `keras.layers.merge`, e.g. `add`, `concatenate`, etc.\n",
            "  name=name)\n",
            "/usr/local/lib/python3.6/dist-packages/ipykernel_launcher.py:43: UserWarning: The `merge` function is deprecated and will be removed after 08/2017. Use instead layers from `keras.layers.merge`, e.g. `add`, `concatenate`, etc.\n",
            "/usr/local/lib/python3.6/dist-packages/ipykernel_launcher.py:49: UserWarning: The `merge` function is deprecated and will be removed after 08/2017. Use instead layers from `keras.layers.merge`, e.g. `add`, `concatenate`, etc.\n",
            "/usr/local/lib/python3.6/dist-packages/ipykernel_launcher.py:55: UserWarning: The `merge` function is deprecated and will be removed after 08/2017. Use instead layers from `keras.layers.merge`, e.g. `add`, `concatenate`, etc.\n",
            "/usr/local/lib/python3.6/dist-packages/ipykernel_launcher.py:61: UserWarning: The `merge` function is deprecated and will be removed after 08/2017. Use instead layers from `keras.layers.merge`, e.g. `add`, `concatenate`, etc.\n",
            "/usr/local/lib/python3.6/dist-packages/ipykernel_launcher.py:68: UserWarning: Update your `Model` call to the Keras 2 API: `Model(inputs=Tensor(\"in..., outputs=Tensor(\"cr...)`\n"
          ],
          "name": "stderr"
        },
        {
          "output_type": "stream",
          "text": [
            "__________________________________________________________________________________________________\n",
            "Layer (type)                    Output Shape         Param #     Connected to                     \n",
            "==================================================================================================\n",
            "input_1 (InputLayer)            (None, 101, 101, 1)  0                                            \n",
            "__________________________________________________________________________________________________\n",
            "zero_padding2d_1 (ZeroPadding2D (None, 128, 128, 1)  0           input_1[0][0]                    \n",
            "__________________________________________________________________________________________________\n",
            "conv2d_1 (Conv2D)               (None, 128, 128, 32) 320         zero_padding2d_1[0][0]           \n",
            "__________________________________________________________________________________________________\n",
            "conv2d_2 (Conv2D)               (None, 128, 128, 32) 9248        conv2d_1[0][0]                   \n",
            "__________________________________________________________________________________________________\n",
            "conv2d_3 (Conv2D)               (None, 128, 128, 32) 4128        conv2d_2[0][0]                   \n",
            "__________________________________________________________________________________________________\n",
            "conv2d_4 (Conv2D)               (None, 128, 128, 32) 4128        conv2d_3[0][0]                   \n",
            "__________________________________________________________________________________________________\n",
            "max_pooling2d_1 (MaxPooling2D)  (None, 64, 64, 32)   0           conv2d_4[0][0]                   \n",
            "__________________________________________________________________________________________________\n",
            "conv2d_5 (Conv2D)               (None, 64, 64, 64)   18496       max_pooling2d_1[0][0]            \n",
            "__________________________________________________________________________________________________\n",
            "conv2d_6 (Conv2D)               (None, 64, 64, 64)   36928       conv2d_5[0][0]                   \n",
            "__________________________________________________________________________________________________\n",
            "conv2d_7 (Conv2D)               (None, 64, 64, 64)   16448       conv2d_6[0][0]                   \n",
            "__________________________________________________________________________________________________\n",
            "conv2d_8 (Conv2D)               (None, 64, 64, 64)   16448       conv2d_7[0][0]                   \n",
            "__________________________________________________________________________________________________\n",
            "max_pooling2d_2 (MaxPooling2D)  (None, 32, 32, 64)   0           conv2d_8[0][0]                   \n",
            "__________________________________________________________________________________________________\n",
            "conv2d_9 (Conv2D)               (None, 32, 32, 128)  73856       max_pooling2d_2[0][0]            \n",
            "__________________________________________________________________________________________________\n",
            "conv2d_10 (Conv2D)              (None, 32, 32, 128)  147584      conv2d_9[0][0]                   \n",
            "__________________________________________________________________________________________________\n",
            "conv2d_11 (Conv2D)              (None, 32, 32, 128)  65664       conv2d_10[0][0]                  \n",
            "__________________________________________________________________________________________________\n",
            "conv2d_12 (Conv2D)              (None, 32, 32, 128)  65664       conv2d_11[0][0]                  \n",
            "__________________________________________________________________________________________________\n",
            "max_pooling2d_3 (MaxPooling2D)  (None, 16, 16, 128)  0           conv2d_12[0][0]                  \n",
            "__________________________________________________________________________________________________\n",
            "conv2d_13 (Conv2D)              (None, 16, 16, 256)  295168      max_pooling2d_3[0][0]            \n",
            "__________________________________________________________________________________________________\n",
            "conv2d_14 (Conv2D)              (None, 16, 16, 256)  590080      conv2d_13[0][0]                  \n",
            "__________________________________________________________________________________________________\n",
            "conv2d_15 (Conv2D)              (None, 16, 16, 256)  262400      conv2d_14[0][0]                  \n",
            "__________________________________________________________________________________________________\n",
            "conv2d_16 (Conv2D)              (None, 16, 16, 256)  262400      conv2d_15[0][0]                  \n",
            "__________________________________________________________________________________________________\n",
            "max_pooling2d_4 (MaxPooling2D)  (None, 8, 8, 256)    0           conv2d_16[0][0]                  \n",
            "__________________________________________________________________________________________________\n",
            "conv2d_17 (Conv2D)              (None, 8, 8, 512)    1180160     max_pooling2d_4[0][0]            \n",
            "__________________________________________________________________________________________________\n",
            "conv2d_18 (Conv2D)              (None, 8, 8, 512)    2359808     conv2d_17[0][0]                  \n",
            "__________________________________________________________________________________________________\n",
            "conv2d_19 (Conv2D)              (None, 8, 8, 512)    1049088     conv2d_18[0][0]                  \n",
            "__________________________________________________________________________________________________\n",
            "conv2d_20 (Conv2D)              (None, 8, 8, 512)    1049088     conv2d_19[0][0]                  \n",
            "__________________________________________________________________________________________________\n",
            "up_sampling2d_2 (UpSampling2D)  (None, 16, 16, 512)  0           conv2d_20[0][0]                  \n",
            "__________________________________________________________________________________________________\n",
            "conv2d_30 (Conv2D)              (None, 16, 16, 256)  524544      up_sampling2d_2[0][0]            \n",
            "__________________________________________________________________________________________________\n",
            "merge_2 (Merge)                 (None, 16, 16, 512)  0           conv2d_16[0][0]                  \n",
            "                                                                 conv2d_30[0][0]                  \n",
            "__________________________________________________________________________________________________\n",
            "conv2d_31 (Conv2D)              (None, 16, 16, 256)  1179904     merge_2[0][0]                    \n",
            "__________________________________________________________________________________________________\n",
            "conv2d_32 (Conv2D)              (None, 16, 16, 256)  590080      conv2d_31[0][0]                  \n",
            "__________________________________________________________________________________________________\n",
            "conv2d_33 (Conv2D)              (None, 16, 16, 256)  590080      conv2d_32[0][0]                  \n",
            "__________________________________________________________________________________________________\n",
            "conv2d_34 (Conv2D)              (None, 16, 16, 256)  590080      conv2d_33[0][0]                  \n",
            "__________________________________________________________________________________________________\n",
            "up_sampling2d_3 (UpSampling2D)  (None, 32, 32, 256)  0           conv2d_34[0][0]                  \n",
            "__________________________________________________________________________________________________\n",
            "conv2d_35 (Conv2D)              (None, 32, 32, 128)  131200      up_sampling2d_3[0][0]            \n",
            "__________________________________________________________________________________________________\n",
            "merge_3 (Merge)                 (None, 32, 32, 256)  0           conv2d_12[0][0]                  \n",
            "                                                                 conv2d_35[0][0]                  \n",
            "__________________________________________________________________________________________________\n",
            "conv2d_36 (Conv2D)              (None, 32, 32, 128)  295040      merge_3[0][0]                    \n",
            "__________________________________________________________________________________________________\n",
            "conv2d_37 (Conv2D)              (None, 32, 32, 128)  147584      conv2d_36[0][0]                  \n",
            "__________________________________________________________________________________________________\n",
            "conv2d_38 (Conv2D)              (None, 32, 32, 128)  147584      conv2d_37[0][0]                  \n",
            "__________________________________________________________________________________________________\n",
            "conv2d_39 (Conv2D)              (None, 32, 32, 128)  147584      conv2d_38[0][0]                  \n",
            "__________________________________________________________________________________________________\n",
            "up_sampling2d_4 (UpSampling2D)  (None, 64, 64, 128)  0           conv2d_39[0][0]                  \n",
            "__________________________________________________________________________________________________\n",
            "conv2d_40 (Conv2D)              (None, 64, 64, 64)   32832       up_sampling2d_4[0][0]            \n",
            "__________________________________________________________________________________________________\n",
            "merge_4 (Merge)                 (None, 64, 64, 128)  0           conv2d_8[0][0]                   \n",
            "                                                                 conv2d_40[0][0]                  \n",
            "__________________________________________________________________________________________________\n",
            "conv2d_41 (Conv2D)              (None, 64, 64, 64)   73792       merge_4[0][0]                    \n",
            "__________________________________________________________________________________________________\n",
            "conv2d_42 (Conv2D)              (None, 64, 64, 64)   36928       conv2d_41[0][0]                  \n",
            "__________________________________________________________________________________________________\n",
            "conv2d_43 (Conv2D)              (None, 64, 64, 64)   36928       conv2d_42[0][0]                  \n",
            "__________________________________________________________________________________________________\n",
            "conv2d_44 (Conv2D)              (None, 64, 64, 64)   36928       conv2d_43[0][0]                  \n",
            "__________________________________________________________________________________________________\n",
            "up_sampling2d_5 (UpSampling2D)  (None, 128, 128, 64) 0           conv2d_44[0][0]                  \n",
            "__________________________________________________________________________________________________\n",
            "conv2d_45 (Conv2D)              (None, 128, 128, 32) 8224        up_sampling2d_5[0][0]            \n",
            "__________________________________________________________________________________________________\n",
            "merge_5 (Merge)                 (None, 128, 128, 64) 0           conv2d_4[0][0]                   \n",
            "                                                                 conv2d_45[0][0]                  \n",
            "__________________________________________________________________________________________________\n",
            "conv2d_46 (Conv2D)              (None, 128, 128, 32) 18464       merge_5[0][0]                    \n",
            "__________________________________________________________________________________________________\n",
            "conv2d_47 (Conv2D)              (None, 128, 128, 32) 9248        conv2d_46[0][0]                  \n",
            "__________________________________________________________________________________________________\n",
            "conv2d_48 (Conv2D)              (None, 128, 128, 32) 9248        conv2d_47[0][0]                  \n",
            "__________________________________________________________________________________________________\n",
            "conv2d_49 (Conv2D)              (None, 128, 128, 2)  578         conv2d_48[0][0]                  \n",
            "__________________________________________________________________________________________________\n",
            "conv2d_50 (Conv2D)              (None, 128, 128, 1)  3           conv2d_49[0][0]                  \n",
            "__________________________________________________________________________________________________\n",
            "cropping2d_1 (Cropping2D)       (None, 101, 101, 1)  0           conv2d_50[0][0]                  \n",
            "==================================================================================================\n",
            "Total params: 12,113,957\n",
            "Trainable params: 12,113,957\n",
            "Non-trainable params: 0\n",
            "__________________________________________________________________________________________________\n"
          ],
          "name": "stdout"
        }
      ]
    },
    {
      "metadata": {
        "id": "-COan7NJcRnY",
        "colab_type": "code",
        "colab": {
          "base_uri": "https://localhost:8080/",
          "height": 1788
        },
        "outputId": "fdc2f393-1cf2-47ce-fc1e-b282ca944440"
      },
      "cell_type": "code",
      "source": [
        "##### Run model\n",
        "filepath = 'weights.best.hdf5'\n",
        "checkpoint = ModelCheckpoint(filepath, monitor='val_acc', verbose=1, save_best_only=True, mode='max')\n",
        "callbacks_list = [checkpoint]\n",
        "model.fit(x_train, y_train, epochs=25, batch_size=64, validation_data=(x_val,y_val), callbacks=callbacks_list, verbose=1)"
      ],
      "execution_count": 6,
      "outputs": [
        {
          "output_type": "stream",
          "text": [
            "Train on 3600 samples, validate on 400 samples\n",
            "Epoch 1/25\n",
            "3600/3600 [==============================] - 89s 25ms/step - loss: 0.5945 - acc: 0.7508 - val_loss: 0.5354 - val_acc: 0.7628\n",
            "\n",
            "Epoch 00001: val_acc improved from -inf to 0.76284, saving model to weights.best.hdf5\n",
            "Epoch 2/25\n",
            "3600/3600 [==============================] - 74s 20ms/step - loss: 0.5226 - acc: 0.7508 - val_loss: 0.4989 - val_acc: 0.7628\n",
            "\n",
            "Epoch 00002: val_acc did not improve from 0.76284\n",
            "Epoch 3/25\n",
            "3600/3600 [==============================] - 74s 20ms/step - loss: 0.4334 - acc: 0.7693 - val_loss: 0.3664 - val_acc: 0.8557\n",
            "\n",
            "Epoch 00003: val_acc improved from 0.76284 to 0.85567, saving model to weights.best.hdf5\n",
            "Epoch 4/25\n",
            "3600/3600 [==============================] - 74s 20ms/step - loss: 0.3705 - acc: 0.8551 - val_loss: 0.3210 - val_acc: 0.8788\n",
            "\n",
            "Epoch 00004: val_acc improved from 0.85567 to 0.87884, saving model to weights.best.hdf5\n",
            "Epoch 5/25\n",
            "3600/3600 [==============================] - 74s 21ms/step - loss: 0.3188 - acc: 0.8768 - val_loss: 0.3022 - val_acc: 0.8907\n",
            "\n",
            "Epoch 00005: val_acc improved from 0.87884 to 0.89071, saving model to weights.best.hdf5\n",
            "Epoch 6/25\n",
            "3600/3600 [==============================] - 74s 21ms/step - loss: 0.2905 - acc: 0.8895 - val_loss: 0.2632 - val_acc: 0.9062\n",
            "\n",
            "Epoch 00006: val_acc improved from 0.89071 to 0.90622, saving model to weights.best.hdf5\n",
            "Epoch 7/25\n",
            "3600/3600 [==============================] - 74s 21ms/step - loss: 0.2777 - acc: 0.8934 - val_loss: 0.2608 - val_acc: 0.9030\n",
            "\n",
            "Epoch 00007: val_acc did not improve from 0.90622\n",
            "Epoch 8/25\n",
            "3600/3600 [==============================] - 74s 21ms/step - loss: 0.2834 - acc: 0.8935 - val_loss: 0.2413 - val_acc: 0.9130\n",
            "\n",
            "Epoch 00008: val_acc improved from 0.90622 to 0.91296, saving model to weights.best.hdf5\n",
            "Epoch 9/25\n",
            "3600/3600 [==============================] - 74s 21ms/step - loss: 0.2496 - acc: 0.9057 - val_loss: 0.2366 - val_acc: 0.9142\n",
            "\n",
            "Epoch 00009: val_acc improved from 0.91296 to 0.91421, saving model to weights.best.hdf5\n",
            "Epoch 10/25\n",
            "3600/3600 [==============================] - 74s 21ms/step - loss: 0.2315 - acc: 0.9136 - val_loss: 0.2330 - val_acc: 0.9182\n",
            "\n",
            "Epoch 00010: val_acc improved from 0.91421 to 0.91820, saving model to weights.best.hdf5\n",
            "Epoch 11/25\n",
            "3600/3600 [==============================] - 74s 21ms/step - loss: 0.2279 - acc: 0.9137 - val_loss: 0.2524 - val_acc: 0.9034\n",
            "\n",
            "Epoch 00011: val_acc did not improve from 0.91820\n",
            "Epoch 12/25\n",
            "3600/3600 [==============================] - 74s 21ms/step - loss: 0.2189 - acc: 0.9186 - val_loss: 0.2431 - val_acc: 0.9220\n",
            "\n",
            "Epoch 00012: val_acc improved from 0.91820 to 0.92196, saving model to weights.best.hdf5\n",
            "Epoch 13/25\n",
            "3600/3600 [==============================] - 74s 21ms/step - loss: 0.2333 - acc: 0.9162 - val_loss: 0.2298 - val_acc: 0.9131\n",
            "\n",
            "Epoch 00013: val_acc did not improve from 0.92196\n",
            "Epoch 14/25\n",
            "3600/3600 [==============================] - 74s 21ms/step - loss: 0.2183 - acc: 0.9207 - val_loss: 0.2106 - val_acc: 0.9290\n",
            "\n",
            "Epoch 00014: val_acc improved from 0.92196 to 0.92899, saving model to weights.best.hdf5\n",
            "Epoch 15/25\n",
            "3600/3600 [==============================] - 74s 21ms/step - loss: 0.1921 - acc: 0.9278 - val_loss: 0.1832 - val_acc: 0.9326\n",
            "\n",
            "Epoch 00015: val_acc improved from 0.92899 to 0.93264, saving model to weights.best.hdf5\n",
            "Epoch 16/25\n",
            "3600/3600 [==============================] - 74s 21ms/step - loss: 0.1772 - acc: 0.9339 - val_loss: 0.2012 - val_acc: 0.9279\n",
            "\n",
            "Epoch 00016: val_acc did not improve from 0.93264\n",
            "Epoch 17/25\n",
            "3600/3600 [==============================] - 74s 21ms/step - loss: 0.1785 - acc: 0.9337 - val_loss: 0.1938 - val_acc: 0.9257\n",
            "\n",
            "Epoch 00017: val_acc did not improve from 0.93264\n",
            "Epoch 18/25\n",
            "3600/3600 [==============================] - 74s 21ms/step - loss: 0.1731 - acc: 0.9342 - val_loss: 0.1986 - val_acc: 0.9274\n",
            "\n",
            "Epoch 00018: val_acc did not improve from 0.93264\n",
            "Epoch 19/25\n",
            "3600/3600 [==============================] - 74s 21ms/step - loss: 0.1638 - acc: 0.9387 - val_loss: 0.2001 - val_acc: 0.9282\n",
            "\n",
            "Epoch 00019: val_acc did not improve from 0.93264\n",
            "Epoch 20/25\n",
            "3600/3600 [==============================] - 74s 21ms/step - loss: 0.1624 - acc: 0.9392 - val_loss: 0.2000 - val_acc: 0.9164\n",
            "\n",
            "Epoch 00020: val_acc did not improve from 0.93264\n",
            "Epoch 21/25\n",
            "3600/3600 [==============================] - 74s 21ms/step - loss: 0.1506 - acc: 0.9429 - val_loss: 0.1978 - val_acc: 0.9318\n",
            "\n",
            "Epoch 00021: val_acc did not improve from 0.93264\n",
            "Epoch 22/25\n",
            "3600/3600 [==============================] - 74s 21ms/step - loss: 0.1411 - acc: 0.9462 - val_loss: 0.1900 - val_acc: 0.9302\n",
            "\n",
            "Epoch 00022: val_acc did not improve from 0.93264\n",
            "Epoch 23/25\n",
            "3600/3600 [==============================] - 74s 21ms/step - loss: 0.1809 - acc: 0.9324 - val_loss: 0.2732 - val_acc: 0.8875\n",
            "\n",
            "Epoch 00023: val_acc did not improve from 0.93264\n",
            "Epoch 24/25\n",
            "3600/3600 [==============================] - 74s 21ms/step - loss: 0.1898 - acc: 0.9266 - val_loss: 0.2050 - val_acc: 0.9268\n",
            "\n",
            "Epoch 00024: val_acc did not improve from 0.93264\n",
            "Epoch 25/25\n",
            "3600/3600 [==============================] - 74s 21ms/step - loss: 0.1460 - acc: 0.9451 - val_loss: 0.1985 - val_acc: 0.9386\n",
            "\n",
            "Epoch 00025: val_acc improved from 0.93264 to 0.93858, saving model to weights.best.hdf5\n"
          ],
          "name": "stdout"
        },
        {
          "output_type": "execute_result",
          "data": {
            "text/plain": [
              "<keras.callbacks.History at 0x7f8ccaa96898>"
            ]
          },
          "metadata": {
            "tags": []
          },
          "execution_count": 6
        }
      ]
    },
    {
      "metadata": {
        "id": "FozQAleLOOb5",
        "colab_type": "code",
        "colab": {}
      },
      "cell_type": "code",
      "source": [
        "##### load best weights:\n",
        "\n",
        "model.load_weights('weights.best.hdf5')"
      ],
      "execution_count": 0,
      "outputs": []
    },
    {
      "metadata": {
        "id": "62UOKlRJcSWg",
        "colab_type": "code",
        "colab": {
          "base_uri": "https://localhost:8080/",
          "height": 52
        },
        "outputId": "aafcbf21-45bc-4992-ee76-f1ec48ed0965"
      },
      "cell_type": "code",
      "source": [
        "##### Predict results\n",
        "y_train_pred = model.predict(x_train, verbose=1)\n",
        "y_val_pred = model.predict(x_val, verbose=1)"
      ],
      "execution_count": 8,
      "outputs": [
        {
          "output_type": "stream",
          "text": [
            "3600/3600 [==============================] - 27s 8ms/step\n",
            "400/400 [==============================] - 3s 7ms/step\n"
          ],
          "name": "stdout"
        }
      ]
    },
    {
      "metadata": {
        "id": "vxyAvf7Dgc14",
        "colab_type": "code",
        "colab": {}
      },
      "cell_type": "code",
      "source": [
        "print(y_val_pred.min())\n",
        "print(y_val_pred.shape)"
      ],
      "execution_count": 0,
      "outputs": []
    },
    {
      "metadata": {
        "id": "-9cxpGL-cnCo",
        "colab_type": "code",
        "colab": {
          "base_uri": "https://localhost:8080/",
          "height": 490
        },
        "outputId": "2c175187-66b8-4a6a-89ae-1bfdf657000f"
      },
      "cell_type": "code",
      "source": [
        "### Evaluate results:\n",
        "y_train = y_train.reshape(-1)[:(400*101*101)]\n",
        "y_train_pred = y_train_pred.reshape(-1)[:(400*101*101)]\n",
        "y_val = y_val.reshape(-1)\n",
        "y_val_pred = y_val_pred.reshape(-1)\n",
        "\n",
        "true_positive_train = []\n",
        "false_positive_train = []\n",
        "false_negative_train = []\n",
        "iou_train = []\n",
        "true_positive_val = []\n",
        "false_positive_val = []\n",
        "false_negative_val = []\n",
        "iou_val = []\n",
        "thresh = [-0.1, -0.05, 0, 0.05, 0.1, 0.15, 0.2, 0.25, 0.3, 0.35]\n",
        "for i in thresh:\n",
        "    y_train_pred_bin = np.round(y_train_pred + i, 0)\n",
        "    y_val_pred_bin = np.round(y_val_pred + i, 0)\n",
        "    conf_train = confusion_matrix(y_train_pred_bin, y_train)\n",
        "    true_positive_train.append(conf_train[1,1])\n",
        "    false_positive_train.append(conf_train[1,0])\n",
        "    false_negative_train.append(conf_train[0,1])\n",
        "    iou_train.append(conf_train[1,1]/(conf_train[1,1]+conf_train[1,0]+conf_train[0,1]))\n",
        "    conf_val = confusion_matrix(y_val_pred_bin, y_val)\n",
        "    true_positive_val.append(conf_val[1,1])\n",
        "    false_positive_val.append(conf_val[1,0])\n",
        "    false_negative_val.append(conf_val[0,1])\n",
        "    iou_val.append(conf_val[1,1]/(conf_val[1,1]+conf_val[1,0]+conf_val[0,1]))\n",
        "d = {'true_positive_train': true_positive_train, 'false_positive_train':  \\\n",
        "     false_positive_train, 'false_negative_train': false_negative_train, \\\n",
        "     'iou_train': iou_train, 'true_positive_val': true_positive_val, 'false_positive_val':  \\\n",
        "     false_positive_val, 'false_negative_val': false_negative_val, 'iou_val': iou_val, }\n",
        "df = pd.DataFrame.from_dict(d, orient='index')\n",
        "df.columns = ['-0.1', '-0.05', '0', '0.05', '0.1', '0.15', '0.2', '0.25', '0.3', '0.35']\n",
        "plt.plot(thresh, iou_train) \n",
        "plt.plot(thresh, iou_val)\n",
        "plt.legend(['train', 'val'])\n",
        "plt.grid()\n",
        "plt.show()\n",
        "\n",
        "i = 0.05 # <- lower threshold for positive predictions (i.e: i=0.1 --> threshold=0.4)\n",
        "y_train_pred_bin = np.round(y_train_pred + i, 0)\n",
        "y_val_pred_bin = np.round(y_val_pred + i, 0)\n",
        "loss_train = log_loss(y_train, y_train_pred)\n",
        "loss_val = log_loss(y_val, y_val_pred)               \n",
        "print('mean IOU training: ' + str(iou_train[3]))\n",
        "print('mean IOU validation: ' + str(iou_val[3]))\n",
        "print('loss training: ' + str(loss_train))\n",
        "print('loss validation: ' + str(loss_val))"
      ],
      "execution_count": 9,
      "outputs": [
        {
          "output_type": "display_data",
          "data": {
            "image/png": "[encoded data removed]",
            "text/plain": [
              "<matplotlib.figure.Figure at 0x7f8c65f76588>"
            ]
          },
          "metadata": {
            "tags": []
          }
        },
        {
          "output_type": "stream",
          "text": [
            "/usr/local/lib/python3.6/dist-packages/sklearn/metrics/classification.py:1694: RuntimeWarning: divide by zero encountered in log\n",
            "  loss = -(transformed_labels * np.log(y_pred)).sum(axis=1)\n",
            "/usr/local/lib/python3.6/dist-packages/sklearn/metrics/classification.py:1694: RuntimeWarning: invalid value encountered in multiply\n",
            "  loss = -(transformed_labels * np.log(y_pred)).sum(axis=1)\n"
          ],
          "name": "stderr"
        },
        {
          "output_type": "stream",
          "text": [
            "mean IOU training: 0.8470229981309897\n",
            "mean IOU validation: 0.76159119072345\n",
            "loss training: nan\n",
            "loss validation: nan\n"
          ],
          "name": "stdout"
        }
      ]
    },
    {
      "metadata": {
        "id": "7zEtiGBecib4",
        "colab_type": "code",
        "colab": {}
      },
      "cell_type": "code",
      "source": [
        "###### Download results to local computer for evaluation [NOT IN USE]\n",
        "# from google.colab import files\n",
        "# results_train = pd.DataFrame({'y_train': y_train.reshape(-1)[:(400*101*101)],'y_train_pred': \\\n",
        "#                               y_train_pred.reshape(-1)[:(400*101*101)]})\n",
        "# results_train.to_csv(\"results_train.csv\")\n",
        "# results_val = pd.DataFrame({'y_val': y_val.reshape(-1),'y_val_pred': y_val_pred.reshape(-1)})\n",
        "# results_val.to_csv('results_val.csv')\n",
        "# files.download('results_train.csv')\n",
        "# files.download('results_val.csv')"
      ],
      "execution_count": 0,
      "outputs": []
    },
    {
      "metadata": {
        "id": "KUyxv0dEuESf",
        "colab_type": "code",
        "colab": {
          "base_uri": "https://localhost:8080/",
          "height": 34
        },
        "outputId": "c690fee6-2499-4c05-9894-4d62bcde3461"
      },
      "cell_type": "code",
      "source": [
        "y_val_pred.mean()"
      ],
      "execution_count": 13,
      "outputs": [
        {
          "output_type": "execute_result",
          "data": {
            "text/plain": [
              "0.23033868"
            ]
          },
          "metadata": {
            "tags": []
          },
          "execution_count": 13
        }
      ]
    },
    {
      "metadata": {
        "id": "0utIsbRcdSfu",
        "colab_type": "code",
        "colab": {
          "base_uri": "https://localhost:8080/",
          "height": 34
        },
        "outputId": "1c1cc49a-3e24-48d7-e148-62f1bf540900"
      },
      "cell_type": "code",
      "source": [
        "##### save model and weights\n",
        "# https://stackoverflow.com/questions/48924165/google-colaboratory-weight-download-export-saved-models\n",
        "!pip install -U -q PyDrive\n",
        "from pydrive.auth import GoogleAuth\n",
        "from pydrive.drive import GoogleDrive\n",
        "from google.colab import auth\n",
        "from oauth2client.client import GoogleCredentials\n",
        "# 1. Authenticate and create the PyDrive client.\n",
        "auth.authenticate_user()\n",
        "gauth = GoogleAuth()\n",
        "gauth.credentials = GoogleCredentials.get_application_default()\n",
        "drive = GoogleDrive(gauth)\n",
        "# 2. Save Keras Model or weights on google drive\n",
        "# create on Colab directory\n",
        "model.save('model_3322.h5')    \n",
        "model_file = drive.CreateFile({'title' : 'model_3322.h5'})\n",
        "model_file.SetContentFile('model_3322.h5')\n",
        "model_file.Upload()\n",
        "drive.CreateFile({'id': model_file.get('id')})\n",
        "model.save_weights('model_weights_3322.h5')\n",
        "weights_file = drive.CreateFile({'title' : 'model_weights_3322.h5'})\n",
        "weights_file.SetContentFile('model_weights_3322.h5')\n",
        "weights_file.Upload()\n",
        "drive.CreateFile({'id': weights_file.get('id')})"
      ],
      "execution_count": 11,
      "outputs": [
        {
          "output_type": "execute_result",
          "data": {
            "text/plain": [
              "GoogleDriveFile({'id': '12cqpOyyqEEl30jGmcjEVoARfDcB9bicC'})"
            ]
          },
          "metadata": {
            "tags": []
          },
          "execution_count": 11
        }
      ]
    },
    {
      "metadata": {
        "id": "kr3Gx7H6CpC8",
        "colab_type": "code",
        "colab": {
          "base_uri": "https://localhost:8080/",
          "height": 208
        },
        "outputId": "accbba9e-931e-48d9-e03e-c975b65ff9c0"
      },
      "cell_type": "code",
      "source": [
        "y_train_pred[50:100]"
      ],
      "execution_count": 26,
      "outputs": [
        {
          "output_type": "execute_result",
          "data": {
            "text/plain": [
              "array([0.00503684, 0.00538168, 0.00586951, 0.00647025, 0.00719448,\n",
              "       0.0079073 , 0.00856224, 0.0091567 , 0.00967239, 0.01021167,\n",
              "       0.01074237, 0.0112762 , 0.01181257, 0.01234576, 0.01286832,\n",
              "       0.01336894, 0.01377307, 0.01406397, 0.01426635, 0.01450133,\n",
              "       0.01483444, 0.01526764, 0.01578286, 0.01636514, 0.01702736,\n",
              "       0.01774496, 0.01859898, 0.01970528, 0.02104622, 0.02275222,\n",
              "       0.02472558, 0.02707887, 0.02984645, 0.03322568, 0.03719867,\n",
              "       0.04203765, 0.04655034, 0.05003434, 0.05184649, 0.05240975,\n",
              "       0.05280109, 0.05290642, 0.05327027, 0.05395169, 0.05453774,\n",
              "       0.05469927, 0.05456806, 0.05541839, 0.05564683, 0.05594668],\n",
              "      dtype=float32)"
            ]
          },
          "metadata": {
            "tags": []
          },
          "execution_count": 26
        }
      ]
    }
  ]
}